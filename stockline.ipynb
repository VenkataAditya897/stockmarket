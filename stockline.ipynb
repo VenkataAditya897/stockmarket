{
 "cells": [
  {
   "cell_type": "code",
   "execution_count": 1,
   "id": "0d679d66-b876-4964-93a5-817dc9b7cc70",
   "metadata": {},
   "outputs": [],
   "source": [
    "import numpy as np\n",
    "import pandas as pd\n",
    "import matplotlib.pyplot as plt\n",
    "from sklearn.preprocessing import MinMaxScaler\n",
    "import tensorflow as tf\n",
    "from tensorflow import keras\n",
    "from keras.models import Sequential\n",
    "from keras.layers import Dense,LSTM,Dropout\n",
    "import yfinance as yf"
   ]
  },
  {
   "cell_type": "code",
   "execution_count": 2,
   "id": "49586beb-595a-4366-9e68-cc5d963b2678",
   "metadata": {},
   "outputs": [
    {
     "name": "stdout",
     "output_type": "stream",
     "text": [
      "[*********************100%%**********************]  1 of 1 completed\n"
     ]
    }
   ],
   "source": [
    "ticker_symbols = ['GOOGL']\n",
    "\n",
    "data = yf.download(ticker_symbols, start='2022-01-01', end='2022-12-31')\n",
    "data.to_csv('stock_data.csv')"
   ]
  },
  {
   "cell_type": "code",
   "execution_count": 3,
   "id": "d3fb5a2e-23c3-4b0e-ba1f-4d92693910bc",
   "metadata": {},
   "outputs": [
    {
     "name": "stdout",
     "output_type": "stream",
     "text": [
      "<class 'pandas.core.frame.DataFrame'>\n",
      "RangeIndex: 251 entries, 0 to 250\n",
      "Data columns (total 7 columns):\n",
      " #   Column     Non-Null Count  Dtype  \n",
      "---  ------     --------------  -----  \n",
      " 0   Date       251 non-null    object \n",
      " 1   Open       251 non-null    float64\n",
      " 2   High       251 non-null    float64\n",
      " 3   Low        251 non-null    float64\n",
      " 4   Close      251 non-null    float64\n",
      " 5   Adj Close  251 non-null    float64\n",
      " 6   Volume     251 non-null    int64  \n",
      "dtypes: float64(5), int64(1), object(1)\n",
      "memory usage: 13.9+ KB\n"
     ]
    }
   ],
   "source": [
    "data=pd.read_csv('GOOGL_data.csv')\n",
    "data.info()\n"
   ]
  },
  {
   "cell_type": "code",
   "execution_count": 4,
   "id": "54430ab9-a5f3-4234-a5ec-6976b86140fe",
   "metadata": {},
   "outputs": [
    {
     "name": "stdout",
     "output_type": "stream",
     "text": [
      "Dataframe contains stock prices between2022-01-03 00:00:00 -- 2022-12-30 00:00:00\n",
      "Total days = 361 days\n"
     ]
    }
   ],
   "source": [
    "data['Date']=pd.to_datetime(data['Date'])\n",
    "data['Date']\n",
    "print(f'Dataframe contains stock prices between{data.Date.min()} -- {data.Date.max()}')\n",
    "print(f'Total days = {(data.Date.max()-data.Date.min()).days} days')"
   ]
  },
  {
   "cell_type": "code",
   "execution_count": 5,
   "id": "c92210b9-2233-4db6-903c-7a4735f7e378",
   "metadata": {},
   "outputs": [
    {
     "data": {
      "text/html": [
       "<div>\n",
       "<style scoped>\n",
       "    .dataframe tbody tr th:only-of-type {\n",
       "        vertical-align: middle;\n",
       "    }\n",
       "\n",
       "    .dataframe tbody tr th {\n",
       "        vertical-align: top;\n",
       "    }\n",
       "\n",
       "    .dataframe thead th {\n",
       "        text-align: right;\n",
       "    }\n",
       "</style>\n",
       "<table border=\"1\" class=\"dataframe\">\n",
       "  <thead>\n",
       "    <tr style=\"text-align: right;\">\n",
       "      <th></th>\n",
       "      <th>Date</th>\n",
       "      <th>Open</th>\n",
       "      <th>High</th>\n",
       "      <th>Low</th>\n",
       "      <th>Close</th>\n",
       "      <th>Adj Close</th>\n",
       "      <th>Volume</th>\n",
       "    </tr>\n",
       "  </thead>\n",
       "  <tbody>\n",
       "    <tr>\n",
       "      <th>0</th>\n",
       "      <td>2022-01-03</td>\n",
       "      <td>145.054993</td>\n",
       "      <td>145.850998</td>\n",
       "      <td>143.712997</td>\n",
       "      <td>144.991501</td>\n",
       "      <td>144.991501</td>\n",
       "      <td>28646000</td>\n",
       "    </tr>\n",
       "    <tr>\n",
       "      <th>1</th>\n",
       "      <td>2022-01-04</td>\n",
       "      <td>145.395996</td>\n",
       "      <td>146.485001</td>\n",
       "      <td>143.716507</td>\n",
       "      <td>144.399506</td>\n",
       "      <td>144.399506</td>\n",
       "      <td>28400000</td>\n",
       "    </tr>\n",
       "    <tr>\n",
       "      <th>2</th>\n",
       "      <td>2022-01-05</td>\n",
       "      <td>144.419998</td>\n",
       "      <td>144.499496</td>\n",
       "      <td>137.688004</td>\n",
       "      <td>137.774994</td>\n",
       "      <td>137.774994</td>\n",
       "      <td>54618000</td>\n",
       "    </tr>\n",
       "    <tr>\n",
       "      <th>3</th>\n",
       "      <td>2022-01-06</td>\n",
       "      <td>136.998505</td>\n",
       "      <td>139.940002</td>\n",
       "      <td>136.558502</td>\n",
       "      <td>137.747498</td>\n",
       "      <td>137.747498</td>\n",
       "      <td>37348000</td>\n",
       "    </tr>\n",
       "    <tr>\n",
       "      <th>4</th>\n",
       "      <td>2022-01-07</td>\n",
       "      <td>138.145493</td>\n",
       "      <td>138.448502</td>\n",
       "      <td>135.766495</td>\n",
       "      <td>137.016998</td>\n",
       "      <td>137.016998</td>\n",
       "      <td>29760000</td>\n",
       "    </tr>\n",
       "  </tbody>\n",
       "</table>\n",
       "</div>"
      ],
      "text/plain": [
       "        Date        Open        High         Low       Close   Adj Close  \\\n",
       "0 2022-01-03  145.054993  145.850998  143.712997  144.991501  144.991501   \n",
       "1 2022-01-04  145.395996  146.485001  143.716507  144.399506  144.399506   \n",
       "2 2022-01-05  144.419998  144.499496  137.688004  137.774994  137.774994   \n",
       "3 2022-01-06  136.998505  139.940002  136.558502  137.747498  137.747498   \n",
       "4 2022-01-07  138.145493  138.448502  135.766495  137.016998  137.016998   \n",
       "\n",
       "     Volume  \n",
       "0  28646000  \n",
       "1  28400000  \n",
       "2  54618000  \n",
       "3  37348000  \n",
       "4  29760000  "
      ]
     },
     "execution_count": 5,
     "metadata": {},
     "output_type": "execute_result"
    }
   ],
   "source": [
    "data.head()"
   ]
  },
  {
   "cell_type": "code",
   "execution_count": 6,
   "id": "9f0e6322-3aee-4a4c-8805-047835f77464",
   "metadata": {},
   "outputs": [
    {
     "data": {
      "text/html": [
       "<div>\n",
       "<style scoped>\n",
       "    .dataframe tbody tr th:only-of-type {\n",
       "        vertical-align: middle;\n",
       "    }\n",
       "\n",
       "    .dataframe tbody tr th {\n",
       "        vertical-align: top;\n",
       "    }\n",
       "\n",
       "    .dataframe thead th {\n",
       "        text-align: right;\n",
       "    }\n",
       "</style>\n",
       "<table border=\"1\" class=\"dataframe\">\n",
       "  <thead>\n",
       "    <tr style=\"text-align: right;\">\n",
       "      <th></th>\n",
       "      <th>Date</th>\n",
       "      <th>Open</th>\n",
       "      <th>High</th>\n",
       "      <th>Low</th>\n",
       "      <th>Close</th>\n",
       "      <th>Adj Close</th>\n",
       "      <th>Volume</th>\n",
       "    </tr>\n",
       "  </thead>\n",
       "  <tbody>\n",
       "    <tr>\n",
       "      <th>count</th>\n",
       "      <td>251</td>\n",
       "      <td>251.000000</td>\n",
       "      <td>251.000000</td>\n",
       "      <td>251.000000</td>\n",
       "      <td>251.000000</td>\n",
       "      <td>251.000000</td>\n",
       "      <td>2.510000e+02</td>\n",
       "    </tr>\n",
       "    <tr>\n",
       "      <th>mean</th>\n",
       "      <td>2022-07-02 15:23:39.920318720</td>\n",
       "      <td>114.879681</td>\n",
       "      <td>116.483813</td>\n",
       "      <td>113.201064</td>\n",
       "      <td>114.760371</td>\n",
       "      <td>114.760371</td>\n",
       "      <td>3.476753e+07</td>\n",
       "    </tr>\n",
       "    <tr>\n",
       "      <th>min</th>\n",
       "      <td>2022-01-03 00:00:00</td>\n",
       "      <td>85.400002</td>\n",
       "      <td>86.519997</td>\n",
       "      <td>83.339996</td>\n",
       "      <td>83.430000</td>\n",
       "      <td>83.430000</td>\n",
       "      <td>9.701400e+06</td>\n",
       "    </tr>\n",
       "    <tr>\n",
       "      <th>25%</th>\n",
       "      <td>2022-04-02 12:00:00</td>\n",
       "      <td>100.005001</td>\n",
       "      <td>101.884998</td>\n",
       "      <td>99.134998</td>\n",
       "      <td>100.879997</td>\n",
       "      <td>100.879997</td>\n",
       "      <td>2.601215e+07</td>\n",
       "    </tr>\n",
       "    <tr>\n",
       "      <th>50%</th>\n",
       "      <td>2022-07-05 00:00:00</td>\n",
       "      <td>113.404999</td>\n",
       "      <td>115.589500</td>\n",
       "      <td>112.480003</td>\n",
       "      <td>113.891998</td>\n",
       "      <td>113.891998</td>\n",
       "      <td>3.169600e+07</td>\n",
       "    </tr>\n",
       "    <tr>\n",
       "      <th>75%</th>\n",
       "      <td>2022-10-01 12:00:00</td>\n",
       "      <td>130.606255</td>\n",
       "      <td>131.892998</td>\n",
       "      <td>127.320999</td>\n",
       "      <td>129.215500</td>\n",
       "      <td>129.215500</td>\n",
       "      <td>3.997200e+07</td>\n",
       "    </tr>\n",
       "    <tr>\n",
       "      <th>max</th>\n",
       "      <td>2022-12-30 00:00:00</td>\n",
       "      <td>151.250000</td>\n",
       "      <td>151.546494</td>\n",
       "      <td>145.522507</td>\n",
       "      <td>148.000000</td>\n",
       "      <td>148.000000</td>\n",
       "      <td>1.232000e+08</td>\n",
       "    </tr>\n",
       "    <tr>\n",
       "      <th>std</th>\n",
       "      <td>NaN</td>\n",
       "      <td>16.268895</td>\n",
       "      <td>16.297471</td>\n",
       "      <td>15.952845</td>\n",
       "      <td>16.109141</td>\n",
       "      <td>16.109141</td>\n",
       "      <td>1.361927e+07</td>\n",
       "    </tr>\n",
       "  </tbody>\n",
       "</table>\n",
       "</div>"
      ],
      "text/plain": [
       "                                Date        Open        High         Low  \\\n",
       "count                            251  251.000000  251.000000  251.000000   \n",
       "mean   2022-07-02 15:23:39.920318720  114.879681  116.483813  113.201064   \n",
       "min              2022-01-03 00:00:00   85.400002   86.519997   83.339996   \n",
       "25%              2022-04-02 12:00:00  100.005001  101.884998   99.134998   \n",
       "50%              2022-07-05 00:00:00  113.404999  115.589500  112.480003   \n",
       "75%              2022-10-01 12:00:00  130.606255  131.892998  127.320999   \n",
       "max              2022-12-30 00:00:00  151.250000  151.546494  145.522507   \n",
       "std                              NaN   16.268895   16.297471   15.952845   \n",
       "\n",
       "            Close   Adj Close        Volume  \n",
       "count  251.000000  251.000000  2.510000e+02  \n",
       "mean   114.760371  114.760371  3.476753e+07  \n",
       "min     83.430000   83.430000  9.701400e+06  \n",
       "25%    100.879997  100.879997  2.601215e+07  \n",
       "50%    113.891998  113.891998  3.169600e+07  \n",
       "75%    129.215500  129.215500  3.997200e+07  \n",
       "max    148.000000  148.000000  1.232000e+08  \n",
       "std     16.109141   16.109141  1.361927e+07  "
      ]
     },
     "execution_count": 6,
     "metadata": {},
     "output_type": "execute_result"
    }
   ],
   "source": [
    "data.describe()"
   ]
  },
  {
   "cell_type": "code",
   "execution_count": 7,
   "id": "071d1f39-1acd-4160-b811-50731989e716",
   "metadata": {},
   "outputs": [
    {
     "data": {
      "text/plain": [
       "<Axes: >"
      ]
     },
     "execution_count": 7,
     "metadata": {},
     "output_type": "execute_result"
    },
    {
     "data": {
      "image/png": "[encoded data removed]",
      "text/plain": [
       "<Figure size 640x480 with 1 Axes>"
      ]
     },
     "metadata": {},
     "output_type": "display_data"
    }
   ],
   "source": [
    "data[['Open','High','Low','Close','Adj Close']].plot(kind='box')"
   ]
  },
  {
   "cell_type": "code",
   "execution_count": 8,
   "id": "b9f00aa9-052d-457f-a68c-82e1ab672717",
   "metadata": {},
   "outputs": [],
   "source": [
    "scaler=MinMaxScaler(feature_range=(0,1))\n",
    "scaled_data=scaler.fit_transform(data['Close'].values.reshape(-1,1))"
   ]
  },
  {
   "cell_type": "code",
   "execution_count": 9,
   "id": "0ef92871-3382-4cd8-b592-1198f05450dc",
   "metadata": {},
   "outputs": [
    {
     "data": {
      "text/plain": [
       "(191, 60)"
      ]
     },
     "execution_count": 9,
     "metadata": {},
     "output_type": "execute_result"
    }
   ],
   "source": [
    "prediction_days=60\n",
    "\n",
    "x_train=[]\n",
    "y_train=[]\n",
    "for x in range(prediction_days,len(scaled_data)):\n",
    "    x_train.append(scaled_data[x-prediction_days:x,0])\n",
    "    y_train.append(scaled_data[x,0])\n",
    "x_train,y_train=np.array(x_train),np.array(y_train)\n",
    "\n",
    "x_train.shape\n"
   ]
  },
  {
   "cell_type": "code",
   "execution_count": 10,
   "id": "3f705e11-bea1-4ef2-86a4-76a3869d7279",
   "metadata": {},
   "outputs": [
    {
     "data": {
      "text/plain": [
       "(191, 60, 1)"
      ]
     },
     "execution_count": 10,
     "metadata": {},
     "output_type": "execute_result"
    }
   ],
   "source": [
    "x_train=np.reshape(x_train,(x_train.shape[0],x_train.shape[1],1))\n",
    "x_train.shape"
   ]
  },
  {
   "cell_type": "code",
   "execution_count": 11,
   "id": "bbe970fd-4c8d-41fb-be76-dc0bbd0d9650",
   "metadata": {},
   "outputs": [],
   "source": [
    "model=Sequential()\n",
    "\n",
    "model.add(LSTM(units=50, return_sequences=True,input_shape=(x_train.shape[1],1)))\n",
    "model.add(Dropout(0.2))\n",
    "model.add(LSTM(units=50,return_sequences=True))\n",
    "model.add(Dropout(0.2))\n",
    "model.add(LSTM(units=50))\n",
    "model.add(Dropout(0.2))\n",
    "model.add(Dense(units=1))"
   ]
  },
  {
   "cell_type": "code",
   "execution_count": 12,
   "id": "5b1034e9-c31b-4b42-8813-5b44c422cb04",
   "metadata": {},
   "outputs": [
    {
     "name": "stdout",
     "output_type": "stream",
     "text": [
      "Epoch 1/25\n",
      "6/6 [==============================] - 19s 176ms/step - loss: 0.0789\n",
      "Epoch 2/25\n",
      "6/6 [==============================] - 1s 172ms/step - loss: 0.0269\n",
      "Epoch 3/25\n",
      "6/6 [==============================] - 1s 168ms/step - loss: 0.0203\n",
      "Epoch 4/25\n",
      "6/6 [==============================] - 1s 191ms/step - loss: 0.0142\n",
      "Epoch 5/25\n",
      "6/6 [==============================] - 1s 168ms/step - loss: 0.0138\n",
      "Epoch 6/25\n",
      "6/6 [==============================] - 1s 168ms/step - loss: 0.0113\n",
      "Epoch 7/25\n",
      "6/6 [==============================] - 1s 218ms/step - loss: 0.0106\n",
      "Epoch 8/25\n",
      "6/6 [==============================] - 1s 174ms/step - loss: 0.0114\n",
      "Epoch 9/25\n",
      "6/6 [==============================] - 1s 217ms/step - loss: 0.0101\n",
      "Epoch 10/25\n",
      "6/6 [==============================] - 1s 174ms/step - loss: 0.0084\n",
      "Epoch 11/25\n",
      "6/6 [==============================] - 1s 203ms/step - loss: 0.0088\n",
      "Epoch 12/25\n",
      "6/6 [==============================] - 1s 170ms/step - loss: 0.0087\n",
      "Epoch 13/25\n",
      "6/6 [==============================] - 1s 200ms/step - loss: 0.0084\n",
      "Epoch 14/25\n",
      "6/6 [==============================] - 1s 209ms/step - loss: 0.0092\n",
      "Epoch 15/25\n",
      "6/6 [==============================] - 1s 171ms/step - loss: 0.0080\n",
      "Epoch 16/25\n",
      "6/6 [==============================] - 1s 170ms/step - loss: 0.0086\n",
      "Epoch 17/25\n",
      "6/6 [==============================] - 1s 168ms/step - loss: 0.0081\n",
      "Epoch 18/25\n",
      "6/6 [==============================] - 1s 183ms/step - loss: 0.0085\n",
      "Epoch 19/25\n",
      "6/6 [==============================] - 1s 199ms/step - loss: 0.0084\n",
      "Epoch 20/25\n",
      "6/6 [==============================] - 1s 206ms/step - loss: 0.0080\n",
      "Epoch 21/25\n",
      "6/6 [==============================] - 1s 220ms/step - loss: 0.0089\n",
      "Epoch 22/25\n",
      "6/6 [==============================] - 1s 196ms/step - loss: 0.0091\n",
      "Epoch 23/25\n",
      "6/6 [==============================] - 1s 192ms/step - loss: 0.0079\n",
      "Epoch 24/25\n",
      "6/6 [==============================] - 1s 226ms/step - loss: 0.0075\n",
      "Epoch 25/25\n",
      "6/6 [==============================] - 2s 235ms/step - loss: 0.0080\n"
     ]
    },
    {
     "data": {
      "text/plain": [
       "<keras.src.callbacks.History at 0x1c0f5496050>"
      ]
     },
     "execution_count": 12,
     "metadata": {},
     "output_type": "execute_result"
    }
   ],
   "source": [
    "model.compile(optimizer='adam',loss='mean_squared_error')\n",
    "\n",
    "model.fit(x_train,y_train,epochs=25,batch_size=32)"
   ]
  },
  {
   "cell_type": "code",
   "execution_count": 13,
   "id": "4aa89834-f384-4ce7-9c02-23372c3141fe",
   "metadata": {},
   "outputs": [
    {
     "name": "stdout",
     "output_type": "stream",
     "text": [
      "[*********************100%%**********************]  1 of 1 completed\n"
     ]
    }
   ],
   "source": [
    "import yfinance as yf\n",
    "ts=['GOOGL']\n",
    "data=yf.download(ts, start='2023-01-01', end='2023-10-7')\n",
    "data.to_csv('GOOGL_test_data.csv')"
   ]
  },
  {
   "cell_type": "code",
   "execution_count": 14,
   "id": "19145087-cfb3-4c6b-8e89-18d519e4338a",
   "metadata": {},
   "outputs": [
    {
     "name": "stdout",
     "output_type": "stream",
     "text": [
      "<class 'pandas.core.frame.DataFrame'>\n",
      "RangeIndex: 192 entries, 0 to 191\n",
      "Data columns (total 7 columns):\n",
      " #   Column     Non-Null Count  Dtype  \n",
      "---  ------     --------------  -----  \n",
      " 0   Date       192 non-null    object \n",
      " 1   Open       192 non-null    float64\n",
      " 2   High       192 non-null    float64\n",
      " 3   Low        192 non-null    float64\n",
      " 4   Close      192 non-null    float64\n",
      " 5   Adj Close  192 non-null    float64\n",
      " 6   Volume     192 non-null    int64  \n",
      "dtypes: float64(5), int64(1), object(1)\n",
      "memory usage: 10.6+ KB\n"
     ]
    }
   ],
   "source": [
    "test_data=pd.read_csv('GOOGL_test_data.csv')\n",
    "test_data.info()"
   ]
  },
  {
   "cell_type": "code",
   "execution_count": 15,
   "id": "9d2c8666-b7fc-4a61-8a9a-5d3fc288795a",
   "metadata": {},
   "outputs": [],
   "source": [
    "test_data = pd.read_csv('GOOGL_test_data.csv')\n",
    "scaler = MinMaxScaler(feature_range=(0, 1))\n",
    "scaled_test_data = scaler.fit_transform(test_data['Close'].values.reshape(-1, 1))\n"
   ]
  },
  {
   "cell_type": "code",
   "execution_count": 16,
   "id": "aa0f11c6-8200-4a35-b1e5-01ca583b37a2",
   "metadata": {},
   "outputs": [],
   "source": [
    "x_test = []\n",
    "y_test = []\n",
    "for x in range(prediction_days, len(scaled_test_data)):\n",
    "    x_test.append(scaled_test_data[x - prediction_days:x, 0])\n",
    "    y_test.append(scaled_test_data[x, 0])\n",
    "x_test, y_test = np.array(x_test), np.array(y_test)\n",
    "x_test = np.reshape(x_test, (x_test.shape[0], x_test.shape[1], 1))\n"
   ]
  },
  {
   "cell_type": "code",
   "execution_count": 17,
   "id": "02bbaac4-2281-49be-9ef3-558d05ee44ca",
   "metadata": {},
   "outputs": [
    {
     "name": "stdout",
     "output_type": "stream",
     "text": [
      "5/5 [==============================] - 4s 63ms/step\n"
     ]
    }
   ],
   "source": [
    "predictions = model.predict(x_test)\n",
    "predictions = scaler.inverse_transform(predictions)"
   ]
  },
  {
   "cell_type": "code",
   "execution_count": 18,
   "id": "ef689e51-5f0e-40b4-9bad-33c452d0d489",
   "metadata": {},
   "outputs": [],
   "source": [
    "y_test = scaler.inverse_transform(y_test.reshape(-1, 1))\n"
   ]
  },
  {
   "cell_type": "code",
   "execution_count": 19,
   "id": "f376c693-9309-49e1-be5b-8e5c57044476",
   "metadata": {},
   "outputs": [
    {
     "data": {
      "image/png": "[encoded data removed]",
      "text/plain": [
       "<Figure size 1200x600 with 1 Axes>"
      ]
     },
     "metadata": {},
     "output_type": "display_data"
    }
   ],
   "source": [
    "plt.figure(figsize=(12, 6))\n",
    "plt.plot(y_test, label='Actual Prices')\n",
    "plt.plot(predictions, label='Predicted Prices')\n",
    "plt.title('Google Stock Price Prediction')\n",
    "plt.xlabel('Time')\n",
    "plt.ylabel('Price')\n",
    "plt.legend()\n",
    "plt.show()"
   ]
  },
  {
   "cell_type": "code",
   "execution_count": 20,
   "id": "4ba42a98-9464-410f-b355-139a9fe4eb1b",
   "metadata": {},
   "outputs": [
    {
     "name": "stdout",
     "output_type": "stream",
     "text": [
      "Mean Squared Error: 34.09667787073573\n",
      "Mean Absolute Error: 4.629836689342153\n"
     ]
    }
   ],
   "source": [
    "from sklearn.metrics import mean_squared_error, mean_absolute_error\n",
    "\n",
    "mse = mean_squared_error(y_test, predictions)\n",
    "mae = mean_absolute_error(y_test, predictions)\n",
    "print(f\"Mean Squared Error: {mse}\")\n",
    "print(f\"Mean Absolute Error: {mae}\")"
   ]
  },
  {
   "cell_type": "code",
   "execution_count": null,
   "id": "01316009-f7c8-4201-b0f1-31feef1e431a",
   "metadata": {},
   "outputs": [],
   "source": []
  },
  {
   "cell_type": "code",
   "execution_count": null,
   "id": "09728faf-1560-4765-95a7-e893a45eee3b",
   "metadata": {},
   "outputs": [],
   "source": []
  }
 ],
 "metadata": {
  "kernelspec": {
   "display_name": "Python 3 (ipykernel)",
   "language": "python",
   "name": "python3"
  },
  "language_info": {
   "codemirror_mode": {
    "name": "ipython",
    "version": 3
   },
   "file_extension": ".py",
   "mimetype": "text/x-python",
   "name": "python",
   "nbconvert_exporter": "python",
   "pygments_lexer": "ipython3",
   "version": "3.11.4"
  }
 },
 "nbformat": 4,
 "nbformat_minor": 5
}
